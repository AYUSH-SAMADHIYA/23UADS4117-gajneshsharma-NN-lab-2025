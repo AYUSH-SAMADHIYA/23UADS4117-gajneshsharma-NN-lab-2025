import tensorflow as tf
import numpy as np
from sklearn.datasets import make_moons
from sklearn.model_selection import train_test_split
from sklearn.preprocessing import StandardScaler

# Generate dataset

x, y = make_moons(n_samples=1000, noise=0.2, random_state=42)
y = y.reshape(-1, 1)  # Reshape y to match expected output shape

# Split dataset
x_train, x_test, y_train, y_test = train_test_split(x, y, test_size=0.2, random_state=42)

# Standardize features
scaler = StandardScaler()
x_train = scaler.fit_transform(x_train)
x_test = scaler.transform(x_test)

# Define model parameters
input_size = 2
hidden_size = 8
output_size = 1
learning_rate = 0.01

def sigmoid(x):
    return 1 / (1 + np.exp(-x))

def sigmoid_derivative(x):
    return x * (1 - x)

# Initialize weights and biases
np.random.seed(42)
w1 = np.random.randn(input_size, hidden_size)
b1 = np.zeros((1, hidden_size))
w2 = np.random.randn(hidden_size, output_size)
b2 = np.zeros((1, output_size))

# Train the model
epochs = 500
total_samples = x_train.shape[0]
for epoch in range(epochs):
    # Forward pass
    hidden_layer_input = np.dot(x_train, w1) + b1
    hidden_layer_output = sigmoid(hidden_layer_input)
    output_layer_input = np.dot(hidden_layer_output, w2) + b2
    output = sigmoid(output_layer_input)
    
    # Compute loss
    loss = np.mean((y_train - output) ** 2)
    
    # Backpropagation
    output_error = y_train - output
    output_delta = output_error * sigmoid_derivative(output)
    hidden_error = output_delta.dot(w2.T)
    hidden_delta = hidden_error * sigmoid_derivative(hidden_layer_output)
    
    # Update weights and biases
    w2 += hidden_layer_output.T.dot(output_delta) * learning_rate
    b2 += np.sum(output_delta, axis=0, keepdims=True) * learning_rate
    w1 += x_train.T.dot(hidden_delta) * learning_rate
    b1 += np.sum(hidden_delta, axis=0, keepdims=True) * learning_rate
    
    if epoch % 100 == 0:
        print(f"Epoch {epoch}, Loss: {loss:.4f}")

# Evaluate the model
hidden_layer_output = sigmoid(np.dot(x_test, w1) + b1)
output = sigmoid(np.dot(hidden_layer_output, w2) + b2)
predictions = np.round(output)
accuracy = np.mean(predictions == y_test)
print(f'Final Accuracy: {accuracy:.4f}')
print("Predictions:", predictions.flatten())
